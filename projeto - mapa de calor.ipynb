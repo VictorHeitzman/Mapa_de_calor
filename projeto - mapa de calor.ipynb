{
 "cells": [
  {
   "cell_type": "code",
   "execution_count": null,
   "id": "6592f932",
   "metadata": {},
   "outputs": [],
   "source": [
    "import plotly.express as px, pandas as pd\n",
    "\n",
    "# criando lista de cidades\n",
    "cidade = ['Santo andré', 'São Bernardo', 'Diadema', 'São Caetano do sul',\n",
    "           'Maua', 'Ribeirão Pires', 'Rio grande da Serra', 'São Paulo']\n",
    "\n",
    "# criando lista de estados\n",
    "estado = ['São Paulo','São Paulo','São Paulo','São Paulo',\n",
    "          'São Paulo','São Paulo','São Paulo','São Paulo',]\n",
    "\n",
    "# criando lista de latitudes\n",
    "latitude = [-23.6666, -23.6944, -23.6865, -23.6226, -23.6687, \n",
    "            -23.7141, -23.7452, -23.5489]\n",
    "\n",
    "# criando lista de longitudes\n",
    "longitude = [-46.5322, -46.5654, -46.6234, -46.5489, -46.4614, \n",
    "             -46.4137, -46.4022, -46.6388]\n",
    "\n",
    "# criando lista de vendas\n",
    "vendas = [100, 120, 90, 50, 70, 90, 250, 400]"
   ]
  },
  {
   "cell_type": "code",
   "execution_count": null,
   "id": "b455bc98",
   "metadata": {},
   "outputs": [],
   "source": [
    "# atribundo os dados ao dicionario \n",
    "dicionario = {'Cidade': cidade,\n",
    "             'UF': estado,\n",
    "             'Lat': latitude,\n",
    "             'Log': longitude,\n",
    "             'Vendas': vendas\n",
    "             }\n",
    "\n",
    "# criando tabela \n",
    "baseDados = pd.DataFrame(dicionario)\n",
    "\n",
    "baseDados"
   ]
  },
  {
   "cell_type": "code",
   "execution_count": null,
   "id": "f0d301df",
   "metadata": {},
   "outputs": [],
   "source": [
    "# imprimindo mapa de calor\n",
    "px.density_mapbox(\n",
    "    baseDados,\n",
    "    lat='Lat',\n",
    "    lon='Log',\n",
    "    z='Vendas',\n",
    "    radius=30,\n",
    "    center=dict(lat=-23.700, lon=-46.5555),\n",
    "    zoom=7,\n",
    "    mapbox_style='stamen-terrain')"
   ]
  },
  {
   "cell_type": "code",
   "execution_count": null,
   "id": "7fcd413e",
   "metadata": {},
   "outputs": [],
   "source": []
  }
 ],
 "metadata": {
  "kernelspec": {
   "display_name": "Python 3 (ipykernel)",
   "language": "python",
   "name": "python3"
  },
  "language_info": {
   "codemirror_mode": {
    "name": "ipython",
    "version": 3
   },
   "file_extension": ".py",
   "mimetype": "text/x-python",
   "name": "python",
   "nbconvert_exporter": "python",
   "pygments_lexer": "ipython3",
   "version": "3.9.12"
  }
 },
 "nbformat": 4,
 "nbformat_minor": 5
}
